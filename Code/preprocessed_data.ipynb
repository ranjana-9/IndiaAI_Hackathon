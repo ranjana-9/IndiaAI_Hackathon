{
 "cells": [
  {
   "cell_type": "code",
   "execution_count": 76,
   "id": "92bd7443-7d9c-4109-87e7-47f73e913c7d",
   "metadata": {},
   "outputs": [],
   "source": [
    "import pandas as pd\n",
    "import matplotlib.pyplot as plt\n",
    "import seaborn as sns\n",
    "import os\n",
    "\n",
    "BASE_DIR = os.path.dirname(os.path.dirname(os.path.abspath(\"__file__\")))\n",
    "DATA_DIR = os.path.join(BASE_DIR, \"datasets\")\n",
    "train_path = os.path.join(DATA_DIR, \"train.csv\")\n",
    "test_path = os.path.join(DATA_DIR, \"test.csv\")\n",
    "# Load the dataset (change 'your_dataset.csv' to the actual file path)\n",
    "train_df = pd.read_csv(train_path)\n",
    "test_df=pd.read_csv(test_path)"
   ]
  },
  {
   "cell_type": "code",
   "execution_count": 77,
   "id": "a5035065-a49b-458e-b786-84de120fb1e6",
   "metadata": {},
   "outputs": [
    {
     "data": {
      "text/html": [
       "<div>\n",
       "<style scoped>\n",
       "    .dataframe tbody tr th:only-of-type {\n",
       "        vertical-align: middle;\n",
       "    }\n",
       "\n",
       "    .dataframe tbody tr th {\n",
       "        vertical-align: top;\n",
       "    }\n",
       "\n",
       "    .dataframe thead th {\n",
       "        text-align: right;\n",
       "    }\n",
       "</style>\n",
       "<table border=\"1\" class=\"dataframe\">\n",
       "  <thead>\n",
       "    <tr style=\"text-align: right;\">\n",
       "      <th></th>\n",
       "      <th>category</th>\n",
       "      <th>sub_category</th>\n",
       "      <th>crimeaditionalinfo</th>\n",
       "    </tr>\n",
       "  </thead>\n",
       "  <tbody>\n",
       "    <tr>\n",
       "      <th>0</th>\n",
       "      <td>Online and Social Media Related Crime</td>\n",
       "      <td>Cyber Bullying  Stalking  Sexting</td>\n",
       "      <td>I had continue received random calls and abusi...</td>\n",
       "    </tr>\n",
       "    <tr>\n",
       "      <th>1</th>\n",
       "      <td>Online Financial Fraud</td>\n",
       "      <td>Fraud CallVishing</td>\n",
       "      <td>The above fraudster is continuously messaging ...</td>\n",
       "    </tr>\n",
       "    <tr>\n",
       "      <th>2</th>\n",
       "      <td>Online Gambling  Betting</td>\n",
       "      <td>Online Gambling  Betting</td>\n",
       "      <td>He is acting like a police and demanding for m...</td>\n",
       "    </tr>\n",
       "    <tr>\n",
       "      <th>3</th>\n",
       "      <td>Online and Social Media Related Crime</td>\n",
       "      <td>Online Job Fraud</td>\n",
       "      <td>In apna Job I have applied for job interview f...</td>\n",
       "    </tr>\n",
       "    <tr>\n",
       "      <th>4</th>\n",
       "      <td>Online Financial Fraud</td>\n",
       "      <td>Fraud CallVishing</td>\n",
       "      <td>I received a call from lady stating that she w...</td>\n",
       "    </tr>\n",
       "  </tbody>\n",
       "</table>\n",
       "</div>"
      ],
      "text/plain": [
       "                                category                       sub_category  \\\n",
       "0  Online and Social Media Related Crime  Cyber Bullying  Stalking  Sexting   \n",
       "1                 Online Financial Fraud                  Fraud CallVishing   \n",
       "2               Online Gambling  Betting           Online Gambling  Betting   \n",
       "3  Online and Social Media Related Crime                   Online Job Fraud   \n",
       "4                 Online Financial Fraud                  Fraud CallVishing   \n",
       "\n",
       "                                  crimeaditionalinfo  \n",
       "0  I had continue received random calls and abusi...  \n",
       "1  The above fraudster is continuously messaging ...  \n",
       "2  He is acting like a police and demanding for m...  \n",
       "3  In apna Job I have applied for job interview f...  \n",
       "4  I received a call from lady stating that she w...  "
      ]
     },
     "execution_count": 77,
     "metadata": {},
     "output_type": "execute_result"
    }
   ],
   "source": [
    "train_df.head()"
   ]
  },
  {
   "cell_type": "code",
   "execution_count": 78,
   "id": "25914eca-997e-43ff-90e1-d8e2fdd0b16b",
   "metadata": {},
   "outputs": [],
   "source": [
    "train_df['crimeaditionalinfo'] = train_df['crimeaditionalinfo'].str.strip()\n",
    "train_df['crimeaditionalinfo'] = train_df['crimeaditionalinfo'].replace(['', 'NA', 'null', '?', '-'], np.nan)\n"
   ]
  },
  {
   "cell_type": "code",
   "execution_count": 79,
   "id": "f166ca0e-6641-4ad9-94bd-8b5404edc2c8",
   "metadata": {},
   "outputs": [
    {
     "name": "stdout",
     "output_type": "stream",
     "text": [
      "\n",
      "Missing Values in Each Column:\n",
      "category                 0\n",
      "sub_category          6591\n",
      "crimeaditionalinfo    1223\n",
      "dtype: int64\n"
     ]
    }
   ],
   "source": [
    "print(\"\\nMissing Values in Each Column:\")\n",
    "print(train_df.isnull().sum())"
   ]
  },
  {
   "cell_type": "code",
   "execution_count": 80,
   "id": "743541ea-ecea-4b69-98b9-e962c7922ba2",
   "metadata": {},
   "outputs": [
    {
     "data": {
      "text/html": [
       "<div>\n",
       "<style scoped>\n",
       "    .dataframe tbody tr th:only-of-type {\n",
       "        vertical-align: middle;\n",
       "    }\n",
       "\n",
       "    .dataframe tbody tr th {\n",
       "        vertical-align: top;\n",
       "    }\n",
       "\n",
       "    .dataframe thead th {\n",
       "        text-align: right;\n",
       "    }\n",
       "</style>\n",
       "<table border=\"1\" class=\"dataframe\">\n",
       "  <thead>\n",
       "    <tr style=\"text-align: right;\">\n",
       "      <th></th>\n",
       "      <th>category</th>\n",
       "      <th>sub_category</th>\n",
       "      <th>crimeaditionalinfo</th>\n",
       "    </tr>\n",
       "  </thead>\n",
       "  <tbody>\n",
       "    <tr>\n",
       "      <th>count</th>\n",
       "      <td>93686</td>\n",
       "      <td>87095</td>\n",
       "      <td>92463</td>\n",
       "    </tr>\n",
       "    <tr>\n",
       "      <th>unique</th>\n",
       "      <td>15</td>\n",
       "      <td>35</td>\n",
       "      <td>83908</td>\n",
       "    </tr>\n",
       "    <tr>\n",
       "      <th>top</th>\n",
       "      <td>Online Financial Fraud</td>\n",
       "      <td>UPI Related Frauds</td>\n",
       "      <td>Respected Sir\\r\\n\\r\\nA very serious matter I w...</td>\n",
       "    </tr>\n",
       "    <tr>\n",
       "      <th>freq</th>\n",
       "      <td>57434</td>\n",
       "      <td>26856</td>\n",
       "      <td>2342</td>\n",
       "    </tr>\n",
       "  </tbody>\n",
       "</table>\n",
       "</div>"
      ],
      "text/plain": [
       "                      category        sub_category  \\\n",
       "count                    93686               87095   \n",
       "unique                      15                  35   \n",
       "top     Online Financial Fraud  UPI Related Frauds   \n",
       "freq                     57434               26856   \n",
       "\n",
       "                                       crimeaditionalinfo  \n",
       "count                                               92463  \n",
       "unique                                              83908  \n",
       "top     Respected Sir\\r\\n\\r\\nA very serious matter I w...  \n",
       "freq                                                 2342  "
      ]
     },
     "execution_count": 80,
     "metadata": {},
     "output_type": "execute_result"
    }
   ],
   "source": [
    "train_df.describe()"
   ]
  },
  {
   "cell_type": "code",
   "execution_count": 81,
   "id": "91e8ac69-d33b-4dbf-b95d-75e9ad283a92",
   "metadata": {},
   "outputs": [
    {
     "name": "stdout",
     "output_type": "stream",
     "text": [
      "\n",
      "Missing Values in Each Column:\n",
      "category              0\n",
      "sub_category          0\n",
      "crimeaditionalinfo    0\n",
      "dtype: int64\n"
     ]
    }
   ],
   "source": [
    "train_df= train_df.dropna()\n",
    "print(\"\\nMissing Values in Each Column:\")\n",
    "print(train_df.isnull().sum())"
   ]
  },
  {
   "cell_type": "code",
   "execution_count": 83,
   "id": "d5d6724e-b95a-4ff3-aa94-dd51e100a001",
   "metadata": {},
   "outputs": [
    {
     "data": {
      "text/html": [
       "<div>\n",
       "<style scoped>\n",
       "    .dataframe tbody tr th:only-of-type {\n",
       "        vertical-align: middle;\n",
       "    }\n",
       "\n",
       "    .dataframe tbody tr th {\n",
       "        vertical-align: top;\n",
       "    }\n",
       "\n",
       "    .dataframe thead th {\n",
       "        text-align: right;\n",
       "    }\n",
       "</style>\n",
       "<table border=\"1\" class=\"dataframe\">\n",
       "  <thead>\n",
       "    <tr style=\"text-align: right;\">\n",
       "      <th></th>\n",
       "      <th>category</th>\n",
       "      <th>sub_category</th>\n",
       "      <th>crimeaditionalinfo</th>\n",
       "    </tr>\n",
       "  </thead>\n",
       "  <tbody>\n",
       "    <tr>\n",
       "      <th>count</th>\n",
       "      <td>85924</td>\n",
       "      <td>85924</td>\n",
       "      <td>85924</td>\n",
       "    </tr>\n",
       "    <tr>\n",
       "      <th>unique</th>\n",
       "      <td>11</td>\n",
       "      <td>35</td>\n",
       "      <td>80111</td>\n",
       "    </tr>\n",
       "    <tr>\n",
       "      <th>top</th>\n",
       "      <td>Online Financial Fraud</td>\n",
       "      <td>UPI Related Frauds</td>\n",
       "      <td>Financial Fraud</td>\n",
       "    </tr>\n",
       "    <tr>\n",
       "      <th>freq</th>\n",
       "      <td>56718</td>\n",
       "      <td>26479</td>\n",
       "      <td>513</td>\n",
       "    </tr>\n",
       "  </tbody>\n",
       "</table>\n",
       "</div>"
      ],
      "text/plain": [
       "                      category        sub_category crimeaditionalinfo\n",
       "count                    85924               85924              85924\n",
       "unique                      11                  35              80111\n",
       "top     Online Financial Fraud  UPI Related Frauds    Financial Fraud\n",
       "freq                     56718               26479                513"
      ]
     },
     "execution_count": 83,
     "metadata": {},
     "output_type": "execute_result"
    }
   ],
   "source": [
    "train_df.describe()"
   ]
  },
  {
   "cell_type": "code",
   "execution_count": 84,
   "id": "773b884f-6d37-495e-a96b-b4710f6d699e",
   "metadata": {},
   "outputs": [],
   "source": [
    "from sklearn.preprocessing import LabelEncoder"
   ]
  },
  {
   "cell_type": "code",
   "execution_count": 85,
   "id": "0abee19b-32af-4f3d-a8c7-b05f737b8cb5",
   "metadata": {},
   "outputs": [],
   "source": [
    "# Encoding user and product IDs to numeric values\n",
    "user_encoder = LabelEncoder()\n",
    "product_encoder = LabelEncoder()\n",
    "train_df['encoded_user_id'] = user_encoder.fit_transform(train_df['category'])\n",
    "train_df['encoded_product_id'] = product_encoder.fit_transform(train_df['crimeaditionalinfo'])"
   ]
  },
  {
   "cell_type": "code",
   "execution_count": 86,
   "id": "ef0e2b15-f101-4eca-a2cc-b1f16c2c265d",
   "metadata": {},
   "outputs": [
    {
     "data": {
      "text/html": [
       "<div>\n",
       "<style scoped>\n",
       "    .dataframe tbody tr th:only-of-type {\n",
       "        vertical-align: middle;\n",
       "    }\n",
       "\n",
       "    .dataframe tbody tr th {\n",
       "        vertical-align: top;\n",
       "    }\n",
       "\n",
       "    .dataframe thead th {\n",
       "        text-align: right;\n",
       "    }\n",
       "</style>\n",
       "<table border=\"1\" class=\"dataframe\">\n",
       "  <thead>\n",
       "    <tr style=\"text-align: right;\">\n",
       "      <th></th>\n",
       "      <th>category</th>\n",
       "      <th>sub_category</th>\n",
       "      <th>crimeaditionalinfo</th>\n",
       "      <th>encoded_user_id</th>\n",
       "      <th>encoded_product_id</th>\n",
       "    </tr>\n",
       "  </thead>\n",
       "  <tbody>\n",
       "    <tr>\n",
       "      <th>0</th>\n",
       "      <td>Online and Social Media Related Crime</td>\n",
       "      <td>Cyber Bullying  Stalking  Sexting</td>\n",
       "      <td>I had continue received random calls and abusi...</td>\n",
       "      <td>8</td>\n",
       "      <td>28416</td>\n",
       "    </tr>\n",
       "    <tr>\n",
       "      <th>1</th>\n",
       "      <td>Online Financial Fraud</td>\n",
       "      <td>Fraud CallVishing</td>\n",
       "      <td>The above fraudster is continuously messaging ...</td>\n",
       "      <td>6</td>\n",
       "      <td>58919</td>\n",
       "    </tr>\n",
       "    <tr>\n",
       "      <th>2</th>\n",
       "      <td>Online Gambling  Betting</td>\n",
       "      <td>Online Gambling  Betting</td>\n",
       "      <td>He is acting like a police and demanding for m...</td>\n",
       "      <td>7</td>\n",
       "      <td>21029</td>\n",
       "    </tr>\n",
       "    <tr>\n",
       "      <th>3</th>\n",
       "      <td>Online and Social Media Related Crime</td>\n",
       "      <td>Online Job Fraud</td>\n",
       "      <td>In apna Job I have applied for job interview f...</td>\n",
       "      <td>8</td>\n",
       "      <td>38720</td>\n",
       "    </tr>\n",
       "    <tr>\n",
       "      <th>4</th>\n",
       "      <td>Online Financial Fraud</td>\n",
       "      <td>Fraud CallVishing</td>\n",
       "      <td>I received a call from lady stating that she w...</td>\n",
       "      <td>6</td>\n",
       "      <td>33665</td>\n",
       "    </tr>\n",
       "  </tbody>\n",
       "</table>\n",
       "</div>"
      ],
      "text/plain": [
       "                                category                       sub_category  \\\n",
       "0  Online and Social Media Related Crime  Cyber Bullying  Stalking  Sexting   \n",
       "1                 Online Financial Fraud                  Fraud CallVishing   \n",
       "2               Online Gambling  Betting           Online Gambling  Betting   \n",
       "3  Online and Social Media Related Crime                   Online Job Fraud   \n",
       "4                 Online Financial Fraud                  Fraud CallVishing   \n",
       "\n",
       "                                  crimeaditionalinfo  encoded_user_id  \\\n",
       "0  I had continue received random calls and abusi...                8   \n",
       "1  The above fraudster is continuously messaging ...                6   \n",
       "2  He is acting like a police and demanding for m...                7   \n",
       "3  In apna Job I have applied for job interview f...                8   \n",
       "4  I received a call from lady stating that she w...                6   \n",
       "\n",
       "   encoded_product_id  \n",
       "0               28416  \n",
       "1               58919  \n",
       "2               21029  \n",
       "3               38720  \n",
       "4               33665  "
      ]
     },
     "execution_count": 86,
     "metadata": {},
     "output_type": "execute_result"
    }
   ],
   "source": [
    "train_df.head()"
   ]
  },
  {
   "cell_type": "code",
   "execution_count": 87,
   "id": "c638dd67-b68c-493d-a3de-a7f52a0a78fc",
   "metadata": {},
   "outputs": [
    {
     "name": "stdout",
     "output_type": "stream",
     "text": [
      "Total number of duplicate entries in train 'crimeaditionalinfo': 5813\n"
     ]
    }
   ],
   "source": [
    "# Check for duplicates in the 'crimeaditionalinfo' column\n",
    "duplicates_info_train = train_df['crimeaditionalinfo'].duplicated()  # This returns a boolean Series marks the subsequent records of duplicated records as true\n",
    "total_duplicates_info_train = duplicates_info_train.sum()  # Total number of duplicate rows in that column\n",
    "\n",
    "print(f\"Total number of duplicate entries in train 'crimeaditionalinfo': {total_duplicates_info_train}\")\n"
   ]
  },
  {
   "cell_type": "raw",
   "id": "e621eb52-c78a-459b-b9f3-b7ca8b7a453d",
   "metadata": {},
   "source": []
  },
  {
   "cell_type": "code",
   "execution_count": 88,
   "id": "873c160d-05bb-424f-ae93-f32945f542f6",
   "metadata": {},
   "outputs": [],
   "source": [
    "# Mapping user and product IDs\n",
    "user_id_map = dict(zip(train_df['encoded_user_id'],train_df['category']))\n",
    "product_id_map = dict(zip(train_df['encoded_product_id'], train_df['crimeaditionalinfo']))"
   ]
  },
  {
   "cell_type": "code",
   "execution_count": 89,
   "id": "c0d8bccd-5008-4da9-b100-e191134c41bb",
   "metadata": {},
   "outputs": [],
   "source": [
    "train_df= train_df.dropna()\n",
    "train_df = train_df.drop_duplicates(subset=['crimeaditionalinfo'])\n",
    "\n",
    "df = pd.DataFrame(train_df)"
   ]
  },
  {
   "cell_type": "code",
   "execution_count": 90,
   "id": "55bad2c4-2d0c-4e9e-ae27-a8c31c3b5558",
   "metadata": {},
   "outputs": [],
   "source": [
    "# Removal of stopwords and lemmitization"
   ]
  },
  {
   "cell_type": "code",
   "execution_count": 92,
   "id": "fe81bb5f-a9d9-4f82-99ca-7d4e6d20d2a9",
   "metadata": {},
   "outputs": [
    {
     "name": "stderr",
     "output_type": "stream",
     "text": [
      "[nltk_data] Downloading package averaged_perceptron_tagger_eng to\n",
      "[nltk_data]     C:\\Users\\pavin/nltk_data...\n",
      "[nltk_data]   Package averaged_perceptron_tagger_eng is already up-to-\n",
      "[nltk_data]       date!\n",
      "[nltk_data] Downloading package wordnet to C:\\Users\\pavin/nltk_data...\n",
      "[nltk_data]   Package wordnet is already up-to-date!\n"
     ]
    }
   ],
   "source": [
    "import nltk\n",
    "import re\n",
    "from nltk.corpus import wordnet\n",
    "from nltk.stem import WordNetLemmatizer\n",
    "from nltk import pos_tag\n",
    "\n",
    "# Correct NLTK downloads\n",
    "nltk.download('averaged_perceptron_tagger_eng')\n",
    "nltk.download('wordnet')\n",
    "\n",
    "# Initialize lemmatizer\n",
    "lemmatizer = WordNetLemmatizer()\n",
    "\n",
    "def get_wordnet_pos(word):\n",
    "    \"\"\"Map POS tag to first character lemmatize() accepts.\"\"\"\n",
    "    tag = pos_tag([word])[0][1][0].upper()\n",
    "    tag_dict = {\"J\": wordnet.ADJ, \"N\": wordnet.NOUN, \"V\": wordnet.VERB, \"R\": wordnet.ADV}\n",
    "    return tag_dict.get(tag, wordnet.NOUN)\n",
    "\n",
    "def clean_and_lemmatize(text):\n",
    "    # Convert to lowercase\n",
    "    text = text.lower()\n",
    "    # Remove special characters and digits\n",
    "    text = re.sub(r'\\W', ' ', text)\n",
    "    # Lemmatize with POS tagging\n",
    "    text = ' '.join([lemmatizer.lemmatize(word, get_wordnet_pos(word)) for word in text.split()])\n",
    "    return text\n",
    "\n",
    "# Apply function to clean and lemmatize the text data\n",
    "train_df['cleaned_text'] = train_df['crimeaditionalinfo'].apply(clean_and_lemmatize)\n",
    "\n"
   ]
  },
  {
   "cell_type": "code",
   "execution_count": 93,
   "id": "ace8d403-0b2c-475c-accf-aec904ed082c",
   "metadata": {},
   "outputs": [
    {
     "data": {
      "text/html": [
       "<div>\n",
       "<style scoped>\n",
       "    .dataframe tbody tr th:only-of-type {\n",
       "        vertical-align: middle;\n",
       "    }\n",
       "\n",
       "    .dataframe tbody tr th {\n",
       "        vertical-align: top;\n",
       "    }\n",
       "\n",
       "    .dataframe thead th {\n",
       "        text-align: right;\n",
       "    }\n",
       "</style>\n",
       "<table border=\"1\" class=\"dataframe\">\n",
       "  <thead>\n",
       "    <tr style=\"text-align: right;\">\n",
       "      <th></th>\n",
       "      <th>category</th>\n",
       "      <th>sub_category</th>\n",
       "      <th>crimeaditionalinfo</th>\n",
       "      <th>encoded_user_id</th>\n",
       "      <th>encoded_product_id</th>\n",
       "      <th>cleaned_text</th>\n",
       "    </tr>\n",
       "  </thead>\n",
       "  <tbody>\n",
       "    <tr>\n",
       "      <th>0</th>\n",
       "      <td>Online and Social Media Related Crime</td>\n",
       "      <td>Cyber Bullying  Stalking  Sexting</td>\n",
       "      <td>I had continue received random calls and abusi...</td>\n",
       "      <td>8</td>\n",
       "      <td>28416</td>\n",
       "      <td>i have continue receive random call and abusiv...</td>\n",
       "    </tr>\n",
       "    <tr>\n",
       "      <th>1</th>\n",
       "      <td>Online Financial Fraud</td>\n",
       "      <td>Fraud CallVishing</td>\n",
       "      <td>The above fraudster is continuously messaging ...</td>\n",
       "      <td>6</td>\n",
       "      <td>58919</td>\n",
       "      <td>the above fraudster be continuously message me...</td>\n",
       "    </tr>\n",
       "    <tr>\n",
       "      <th>2</th>\n",
       "      <td>Online Gambling  Betting</td>\n",
       "      <td>Online Gambling  Betting</td>\n",
       "      <td>He is acting like a police and demanding for m...</td>\n",
       "      <td>7</td>\n",
       "      <td>21029</td>\n",
       "      <td>he be act like a police and demand for money b...</td>\n",
       "    </tr>\n",
       "    <tr>\n",
       "      <th>3</th>\n",
       "      <td>Online and Social Media Related Crime</td>\n",
       "      <td>Online Job Fraud</td>\n",
       "      <td>In apna Job I have applied for job interview f...</td>\n",
       "      <td>8</td>\n",
       "      <td>38720</td>\n",
       "      <td>in apna job i have apply for job interview for...</td>\n",
       "    </tr>\n",
       "    <tr>\n",
       "      <th>4</th>\n",
       "      <td>Online Financial Fraud</td>\n",
       "      <td>Fraud CallVishing</td>\n",
       "      <td>I received a call from lady stating that she w...</td>\n",
       "      <td>6</td>\n",
       "      <td>33665</td>\n",
       "      <td>i receive a call from lady state that she will...</td>\n",
       "    </tr>\n",
       "  </tbody>\n",
       "</table>\n",
       "</div>"
      ],
      "text/plain": [
       "                                category                       sub_category  \\\n",
       "0  Online and Social Media Related Crime  Cyber Bullying  Stalking  Sexting   \n",
       "1                 Online Financial Fraud                  Fraud CallVishing   \n",
       "2               Online Gambling  Betting           Online Gambling  Betting   \n",
       "3  Online and Social Media Related Crime                   Online Job Fraud   \n",
       "4                 Online Financial Fraud                  Fraud CallVishing   \n",
       "\n",
       "                                  crimeaditionalinfo  encoded_user_id  \\\n",
       "0  I had continue received random calls and abusi...                8   \n",
       "1  The above fraudster is continuously messaging ...                6   \n",
       "2  He is acting like a police and demanding for m...                7   \n",
       "3  In apna Job I have applied for job interview f...                8   \n",
       "4  I received a call from lady stating that she w...                6   \n",
       "\n",
       "   encoded_product_id                                       cleaned_text  \n",
       "0               28416  i have continue receive random call and abusiv...  \n",
       "1               58919  the above fraudster be continuously message me...  \n",
       "2               21029  he be act like a police and demand for money b...  \n",
       "3               38720  in apna job i have apply for job interview for...  \n",
       "4               33665  i receive a call from lady state that she will...  "
      ]
     },
     "execution_count": 93,
     "metadata": {},
     "output_type": "execute_result"
    }
   ],
   "source": [
    "train_df.head()"
   ]
  },
  {
   "cell_type": "code",
   "execution_count": 94,
   "id": "dc62be35-5144-4f0b-bd2a-4183f83177ca",
   "metadata": {},
   "outputs": [
    {
     "name": "stderr",
     "output_type": "stream",
     "text": [
      "[nltk_data] Downloading package stopwords to\n",
      "[nltk_data]     C:\\Users\\pavin/nltk_data...\n",
      "[nltk_data]   Package stopwords is already up-to-date!\n"
     ]
    },
    {
     "data": {
      "text/html": [
       "<div>\n",
       "<style scoped>\n",
       "    .dataframe tbody tr th:only-of-type {\n",
       "        vertical-align: middle;\n",
       "    }\n",
       "\n",
       "    .dataframe tbody tr th {\n",
       "        vertical-align: top;\n",
       "    }\n",
       "\n",
       "    .dataframe thead th {\n",
       "        text-align: right;\n",
       "    }\n",
       "</style>\n",
       "<table border=\"1\" class=\"dataframe\">\n",
       "  <thead>\n",
       "    <tr style=\"text-align: right;\">\n",
       "      <th></th>\n",
       "      <th>category</th>\n",
       "      <th>sub_category</th>\n",
       "      <th>crimeaditionalinfo</th>\n",
       "      <th>encoded_user_id</th>\n",
       "      <th>encoded_product_id</th>\n",
       "      <th>cleaned_text</th>\n",
       "    </tr>\n",
       "  </thead>\n",
       "  <tbody>\n",
       "    <tr>\n",
       "      <th>0</th>\n",
       "      <td>Online and Social Media Related Crime</td>\n",
       "      <td>Cyber Bullying  Stalking  Sexting</td>\n",
       "      <td>I had continue received random calls and abusi...</td>\n",
       "      <td>8</td>\n",
       "      <td>28416</td>\n",
       "      <td>continue receive random call abusive message w...</td>\n",
       "    </tr>\n",
       "    <tr>\n",
       "      <th>1</th>\n",
       "      <td>Online Financial Fraud</td>\n",
       "      <td>Fraud CallVishing</td>\n",
       "      <td>The above fraudster is continuously messaging ...</td>\n",
       "      <td>6</td>\n",
       "      <td>58919</td>\n",
       "      <td>fraudster continuously message ask pay money s...</td>\n",
       "    </tr>\n",
       "    <tr>\n",
       "      <th>2</th>\n",
       "      <td>Online Gambling  Betting</td>\n",
       "      <td>Online Gambling  Betting</td>\n",
       "      <td>He is acting like a police and demanding for m...</td>\n",
       "      <td>7</td>\n",
       "      <td>21029</td>\n",
       "      <td>act like police demand money add section text ...</td>\n",
       "    </tr>\n",
       "    <tr>\n",
       "      <th>3</th>\n",
       "      <td>Online and Social Media Related Crime</td>\n",
       "      <td>Online Job Fraud</td>\n",
       "      <td>In apna Job I have applied for job interview f...</td>\n",
       "      <td>8</td>\n",
       "      <td>38720</td>\n",
       "      <td>apna job apply job interview telecalling resou...</td>\n",
       "    </tr>\n",
       "    <tr>\n",
       "      <th>4</th>\n",
       "      <td>Online Financial Fraud</td>\n",
       "      <td>Fraud CallVishing</td>\n",
       "      <td>I received a call from lady stating that she w...</td>\n",
       "      <td>6</td>\n",
       "      <td>33665</td>\n",
       "      <td>receive call lady state send new phone vivo re...</td>\n",
       "    </tr>\n",
       "  </tbody>\n",
       "</table>\n",
       "</div>"
      ],
      "text/plain": [
       "                                category                       sub_category  \\\n",
       "0  Online and Social Media Related Crime  Cyber Bullying  Stalking  Sexting   \n",
       "1                 Online Financial Fraud                  Fraud CallVishing   \n",
       "2               Online Gambling  Betting           Online Gambling  Betting   \n",
       "3  Online and Social Media Related Crime                   Online Job Fraud   \n",
       "4                 Online Financial Fraud                  Fraud CallVishing   \n",
       "\n",
       "                                  crimeaditionalinfo  encoded_user_id  \\\n",
       "0  I had continue received random calls and abusi...                8   \n",
       "1  The above fraudster is continuously messaging ...                6   \n",
       "2  He is acting like a police and demanding for m...                7   \n",
       "3  In apna Job I have applied for job interview f...                8   \n",
       "4  I received a call from lady stating that she w...                6   \n",
       "\n",
       "   encoded_product_id                                       cleaned_text  \n",
       "0               28416  continue receive random call abusive message w...  \n",
       "1               58919  fraudster continuously message ask pay money s...  \n",
       "2               21029  act like police demand money add section text ...  \n",
       "3               38720  apna job apply job interview telecalling resou...  \n",
       "4               33665  receive call lady state send new phone vivo re...  "
      ]
     },
     "execution_count": 94,
     "metadata": {},
     "output_type": "execute_result"
    }
   ],
   "source": [
    "#!pip install nltk\n",
    "import nltk\n",
    "nltk.download('stopwords')\n",
    "from nltk.corpus import stopwords\n",
    "\n",
    "# Load English stopwords\n",
    "stop_words = set(stopwords.words('english'))\n",
    "\n",
    "# Function to remove stopwords from text\n",
    "def remove_stopwords(text):\n",
    "    return ' '.join([word for word in text.split() if word not in stop_words])\n",
    "\n",
    "# Apply stopword removal\n",
    "train_df['cleaned_text']= train_df['cleaned_text'].apply(remove_stopwords)\n",
    "train_df.head()"
   ]
  },
  {
   "cell_type": "code",
   "execution_count": 95,
   "id": "7d56ae1a-36af-4924-a50e-5caa8e116253",
   "metadata": {},
   "outputs": [
    {
     "name": "stdout",
     "output_type": "stream",
     "text": [
      "Total number of duplicate entries in train 'crimeaditionalinfo': 0\n"
     ]
    }
   ],
   "source": [
    "# Check for duplicates in the 'crimeaditionalinfo' column\n",
    "duplicates_info_train = train_df['crimeaditionalinfo'].duplicated()  # This returns a boolean Series marks the subsequent records of duplicated records as true\n",
    "total_duplicates_info_train = duplicates_info_train.sum()  # Total number of duplicate rows in that column\n",
    "\n",
    "print(f\"Total number of duplicate entries in train 'crimeaditionalinfo': {total_duplicates_info_train}\")\n"
   ]
  },
  {
   "cell_type": "code",
   "execution_count": 96,
   "id": "008a0851-22af-4460-9f57-fd5e9d91ce8a",
   "metadata": {},
   "outputs": [],
   "source": [
    "train_df = train_df.drop_duplicates(subset=['crimeaditionalinfo'])\n",
    "\n"
   ]
  },
  {
   "cell_type": "code",
   "execution_count": 97,
   "id": "ec8fb140-99cd-43e0-8853-e6e8efeb1a67",
   "metadata": {},
   "outputs": [],
   "source": [
    "##TF-IDF Vectorization\n",
    "from sklearn.feature_extraction.text import TfidfVectorizer\n",
    "\n",
    "# Initialize TF-IDF Vectorizer\n",
    "tfidf = TfidfVectorizer(max_features=1000, ngram_range=(1, 2))  # Adjust max_features based on dataset size\n",
    "tfidf_matrix = tfidf.fit_transform(train_df['cleaned_text'])\n",
    "\n",
    "# Convert to DataFrame for inspection\n",
    "tfidf_df = pd.DataFrame(tfidf_matrix.toarray(), columns=tfidf.get_feature_names_out())\n"
   ]
  },
  {
   "cell_type": "code",
   "execution_count": 98,
   "id": "0c530bab-59bc-4f77-8a2c-10d18194dc48",
   "metadata": {},
   "outputs": [],
   "source": [
    "## tokenization and stemming"
   ]
  },
  {
   "cell_type": "code",
   "execution_count": 100,
   "id": "196efee9-0450-4595-9648-ba1cdb10a117",
   "metadata": {
    "scrolled": true
   },
   "outputs": [
    {
     "name": "stderr",
     "output_type": "stream",
     "text": [
      "[nltk_data] Downloading package stopwords to\n",
      "[nltk_data]     C:\\Users\\pavin/nltk_data...\n",
      "[nltk_data]   Package stopwords is already up-to-date!\n",
      "[nltk_data] Downloading package punkt_tab to\n",
      "[nltk_data]     C:\\Users\\pavin/nltk_data...\n",
      "[nltk_data]   Package punkt_tab is already up-to-date!\n"
     ]
    }
   ],
   "source": [
    "#!pip install nltk\n",
    "import nltk\n",
    "from nltk.corpus import stopwords\n",
    "from nltk.stem import PorterStemmer\n",
    "from nltk.tokenize import word_tokenize\n",
    "\n",
    "# Download necessary NLTK resources\n",
    "nltk.download('stopwords')\n",
    "import nltk\n",
    "nltk.download('punkt_tab')\n",
    "\n",
    "\n",
    "# Initialize stopwords and stemmer\n",
    "stop_words = set(stopwords.words('english'))\n",
    "stemmer = PorterStemmer()\n",
    "\n",
    "# Function to tokenize, remove stopwords, and stem words in text\n",
    "def preprocess_text(text):\n",
    "    # Tokenize the text\n",
    "    tokens = word_tokenize(text)\n",
    "    # Remove stopwords and apply stemming\n",
    "    processed_text = ' '.join([stemmer.stem(word) for word in tokens if word not in stop_words])\n",
    "    return processed_text\n",
    "\n",
    "# Apply the preprocessing function\n",
    "train_df['cleaned'] = train_df['cleaned_text'].apply(preprocess_text)\n",
    "\n",
    "# Display the processed data\n",
    "train_df.head()\n",
    "train_df.to_csv(os.path.join(DATA_DIR,\"preprocessed_data1.csv\"), index=False)"
   ]
  },
  {
   "cell_type": "code",
   "execution_count": null,
   "id": "d294409d-1bf0-4ca1-8d57-1960c5884c85",
   "metadata": {},
   "outputs": [],
   "source": []
  },
  {
   "cell_type": "code",
   "execution_count": null,
   "id": "89443c7e-f001-4abd-8a6c-8fe8a4cc75ed",
   "metadata": {},
   "outputs": [],
   "source": [
    "from py2neo import Graph, Node, Relationship\n",
    "from neo4j import GraphDatabase\n",
    "\n",
    "# Connect to the database\n",
    "uri = \"bolt://localhost:7687\"\n",
    "auth = (\"neo4j\", \"paVi@9731\")  # Replace with your credentials\n",
    "driver = GraphDatabase.driver(uri, auth=auth)\n",
    "\n",
    "# Function to create knowledge graph\n",
    "def create_knowledge_graph(tx, category, crimeaditionalinfo):\n",
    "    query = \"\"\"\n",
    "    MERGE (c:Category {name: $category})\n",
    "    MERGE (comp:Complaint {info: $crimeaditionalinfo})\n",
    "    MERGE (c)-[:HAS_COMPLAINT]->(comp)\n",
    "    \"\"\"\n",
    "    tx.run(query, category=category, crimeaditionalinfo=crimeaditionalinfo)\n",
    "df = df.dropna(subset=['category', 'crimeaditionalinfo'])  # Drop rows with NaN in required columns\n",
    "\n",
    "# Limit to the first 10,000 rows\n",
    "limited_df = df[:20000]\n",
    "\n",
    "# Process the limited dataset\n",
    "with driver.session() as session:\n",
    "    for index, row in limited_df.iterrows():\n",
    "        session.execute_write(create_knowledge_graph, row['category'], row['crimeaditionalinfo'])\n",
    "\n",
    "driver.close()\n"
   ]
  },
  {
   "cell_type": "code",
   "execution_count": null,
   "id": "ced56a79-61d3-4b30-8257-0b07298da93e",
   "metadata": {},
   "outputs": [],
   "source": []
  }
 ],
 "metadata": {
  "kernelspec": {
   "display_name": "Python 3 (ipykernel)",
   "language": "python",
   "name": "python3"
  },
  "language_info": {
   "codemirror_mode": {
    "name": "ipython",
    "version": 3
   },
   "file_extension": ".py",
   "mimetype": "text/x-python",
   "name": "python",
   "nbconvert_exporter": "python",
   "pygments_lexer": "ipython3",
   "version": "3.11.4"
  }
 },
 "nbformat": 4,
 "nbformat_minor": 5
}
